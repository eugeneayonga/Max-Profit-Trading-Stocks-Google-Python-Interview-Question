{
 "cells": [
  {
   "cell_type": "code",
   "execution_count": 13,
   "metadata": {},
   "outputs": [
    {
     "name": "stdout",
     "output_type": "stream",
     "text": [
      "7\n",
      "0\n"
     ]
    }
   ],
   "source": [
    "\"\"\"Max Profit Trading Stocks [Google Python Interview Question]\n",
    "\n",
    "You are given a list of stock prices, where the stock's price on the i-th day is stored as the i-th element of the prices list.\n",
    "\n",
    "You want to maximize your profit trading the stock, but are only allowed to buy the stock once and sell it once on a future day.\n",
    "\n",
    "Write a function called max_profit which takes in this list of stock prices, and computes the max profit possible. Return 0 if you can't make any profit.\n",
    "\n",
    "Example 1:\n",
    "\n",
    "Input: prices = [9, 1, 3, 6, 4, 8, 3, 5, 5] Output: 7 Explanation: Buy on day 2 (price = 1) and sell on day 6 (price = 8), profit = 8 - 1 = 7.\n",
    "\n",
    "Note that buying on day 2 and selling on day 1 is not allowed because you have to buy the stock BEFORE you can sell it (unless your a time-traveller in which case just trade bitcoin).\n",
    "\n",
    "Example 2:\n",
    "\n",
    "Input: prices = [6, 4, 3, 3, 2] Output: 0 Explanation: In this case, no trades should be made since the stock is tanking like a brick. The max profit here is 0.\n",
    "\n",
    "\"\"\"\n",
    "\n",
    "def max_subarray_sum(prices):\n",
    "    \n",
    "    if not prices or len(prices) < 2:\n",
    "        return 0\n",
    "    \n",
    "    maximum_profit = 0\n",
    "    minimum_price = prices[0]\n",
    "\n",
    "    # Loop through the list\n",
    "    for _ in prices[1:]:\n",
    "        maximum_profit = max(maximum_profit, _ - minimum_price)\n",
    "        minimum_price = min(minimum_price, _)\n",
    "\n",
    "    return maximum_profit\n",
    "\n",
    "\n",
    "print(max_subarray_sum([9, 1, 3, 6, 4, 8, 3, 5, 5]))\n",
    "print(max_subarray_sum([6, 4, 3, 3, 2]))"
   ]
  }
 ],
 "metadata": {
  "kernelspec": {
   "display_name": "Python 3",
   "language": "python",
   "name": "python3"
  },
  "language_info": {
   "codemirror_mode": {
    "name": "ipython",
    "version": 3
   },
   "file_extension": ".py",
   "mimetype": "text/x-python",
   "name": "python",
   "nbconvert_exporter": "python",
   "pygments_lexer": "ipython3",
   "version": "3.9.6"
  }
 },
 "nbformat": 4,
 "nbformat_minor": 2
}
